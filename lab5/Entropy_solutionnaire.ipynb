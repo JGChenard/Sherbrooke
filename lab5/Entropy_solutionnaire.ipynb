{
 "cells": [
  {
   "cell_type": "markdown",
   "id": "06efd2d5",
   "metadata": {},
   "source": [
    "# Implement Entropy Calculation for Decision Tree"
   ]
  },
  {
   "cell_type": "markdown",
   "id": "8a9f9601",
   "metadata": {},
   "source": [
    "La formule mathématique de l'entropie est la suivante :\n",
    "\n",
    "La formule de l'entropie pour un arbre de décision binaire est donnée par :\n",
    "$$E(T) = - \\sum_{i=1}^{c} p_i \\cdot \\log_2(p_i))$$\n",
    "\n",
    "- $E(T)$ est l'entropie de l'arbre.\n",
    "- $c$ est le nombre de classes.\n",
    "- $p_i$ est la probabilité de la classe $i$ (c'est-à-dire, le nombre d'éléments à l'intérieur de la classe $c_i$ divisé par le nombre total d'éléments).\n",
    "\n",
    "\n",
    "**Objectif** : Implémenter une fonction en Python qui calcule l'entropie pour un ensemble de données donné, représenté sous forme de DataFrame.\n",
    "\n",
    "---\n",
    "\n",
    "The Mathematical formula for Entropy is as follows:\n",
    "\n",
    "The entropy formula for a binary decision tree is given by:\n",
    "$$E(T) = - \\sum_{i=1}^{c} p_i \\cdot \\log_2(p_i))$$\n",
    "\n",
    "- $E(T)$ is the entropy of the tree.\n",
    "- $c$ is the number of classes.\n",
    "- $p_i$ is the probability of class $i$ (i.e., the number of elements inside class $c_i$ divided by the total number of elements).\n",
    "\n",
    "\n",
    "**Objective**: Implement a function in Python that calculates the entropy for a given dataset represented as a DataFrame."
   ]
  },
  {
   "cell_type": "code",
   "execution_count": 1,
   "id": "21fa872c",
   "metadata": {},
   "outputs": [],
   "source": [
    "# import modules  \n",
    "import pandas as pd  \n",
    "import math"
   ]
  },
  {
   "cell_type": "markdown",
   "id": "5b3e8353",
   "metadata": {},
   "source": [
    "Opening the CSV file (PlayTennis.csv) and storing it in a dataframe (df). Reading the data (print).\n",
    "\n",
    "---\n",
    "\n",
    "Ouverture du fichier CSV (_PlayTennis.csv_) et stockage dans un dataframe (_df_). Lecture des données (_print_)."
   ]
  },
  {
   "cell_type": "code",
   "execution_count": 2,
   "id": "5519e310",
   "metadata": {},
   "outputs": [
    {
     "name": "stdout",
     "output_type": "stream",
     "text": [
      "   Temperature Humidity   Outlook    Wind Play Tennis\n",
      "0          Hot     High     Sunny    Weak          No\n",
      "1          Hot     High     Sunny  Strong          No\n",
      "2          Hot     High  Overcast    Weak         Yes\n",
      "3         Mild     High      Rain    Weak         Yes\n",
      "4         Cool   Normal      Rain    Weak         Yes\n",
      "5         Cool   Normal      Rain  Strong          No\n",
      "6         Cool   Normal  Overcast  Strong         Yes\n",
      "7         Mild     High     Sunny    Weak          No\n",
      "8         Cool   Normal     Sunny    Weak         Yes\n",
      "9         Mild   Normal      Rain    Weak         Yes\n",
      "10        Mild   Normal     Sunny  Strong         Yes\n",
      "11        Mild     High  Overcast  Strong         Yes\n",
      "12         Hot   Normal  Overcast    Weak         Yes\n",
      "13        Mild     High      Rain  Strong          No\n"
     ]
    }
   ],
   "source": [
    "# making dataframe  \n",
    "df = pd.read_csv(\"PlayTennis.csv\")  \n",
    "   \n",
    "# output the dataframe \n",
    "print(df)"
   ]
  },
  {
   "cell_type": "markdown",
   "id": "30f1c02a",
   "metadata": {},
   "source": [
    "**Exercice 1 :** Écrivez une fonction Python appelée `count_classes` qui compte le nombre de classes uniques présentes et les occurrences de chaque classe pour un vecteur donné en entrée. Une structure de dictionnaire peut être utilisée.\n",
    "\n",
    "---\n",
    "\n",
    "**Exercise 1:** Write a Python function called `count_classes` that counts the number of unique classes present and the occurrences of each class given a vector as input. A dictionary structure can be used."
   ]
  },
  {
   "cell_type": "code",
   "execution_count": 3,
   "id": "d8c23cdb",
   "metadata": {},
   "outputs": [],
   "source": [
    "def count_classes(vector):\n",
    "    \"\"\"\n",
    "    Count the number of unique classes and occurrences in the input vector.\n",
    "\n",
    "    Parameters:\n",
    "    - vector: A list or array containing class labels.\n",
    "\n",
    "    Returns:\n",
    "    - class_counts: A dictionary where keys are unique classes, and values are their occurrences.\n",
    "    - num_classes: The total number of unique classes.\n",
    "    \"\"\"\n",
    "    class_counts = {}\n",
    "    \n",
    "    for label in vector:\n",
    "        if label in class_counts:\n",
    "            class_counts[label] += 1\n",
    "        else:\n",
    "            class_counts[label] = 1\n",
    "\n",
    "    num_classes = len(class_counts)\n",
    "\n",
    "    return class_counts, num_classes"
   ]
  },
  {
   "cell_type": "markdown",
   "id": "9f5945fd",
   "metadata": {},
   "source": [
    "Testez vos fonctions en utilisant un vecteur d'échantillon. _Assurez-vous que vos fonctions sont correctement implémentées et fournissent des résultats significatifs._\n",
    "\n",
    "---\n",
    "\n",
    "Test your functions using a sample vector. _Ensure that your functions are correctly implemented and provide meaningful results._"
   ]
  },
  {
   "cell_type": "code",
   "execution_count": 4,
   "id": "5e15681b",
   "metadata": {},
   "outputs": [
    {
     "name": "stdout",
     "output_type": "stream",
     "text": [
      "Class Counts: {1: 3, 2: 2, 3: 2, 4: 3, 5: 1}\n",
      "Number of Unique Classes: 5\n"
     ]
    }
   ],
   "source": [
    "# Example usage:\n",
    "# Replace 'your_vector' with the actual vector you want to analyze\n",
    "test_vector = [1, 2, 1, 3, 2, 1, 3, 4, 4, 4, 5]\n",
    "class_counts, num_classes = count_classes(test_vector)\n",
    "\n",
    "print(\"Class Counts:\", class_counts)\n",
    "print(\"Number of Unique Classes:\", num_classes)"
   ]
  },
  {
   "cell_type": "markdown",
   "id": "0a914106",
   "metadata": {},
   "source": [
    "**Exercice 2 :** Implémentez la fonction `calculate_entropy` pour calculer l'entropie du vecteur donné en utilisant la formule fournie précédemment. Cette fonction prend un vecteur en entrée. Utilisez la fonction `count_classes` dans cette implémentation.\n",
    "\n",
    "---\n",
    "\n",
    "**Exercise 2:** Implement the function `calculate_entropy` to calculate the entropy of the given vector using the formula provided earlier. This function takes a vector as input. Use the `count_classes` function within this implementation."
   ]
  },
  {
   "cell_type": "code",
   "execution_count": 5,
   "id": "344a00b2",
   "metadata": {},
   "outputs": [],
   "source": [
    "def calculate_entropy(vector):\n",
    "    \"\"\"\n",
    "    Calculate the entropy of a given vector using the provided formula.\n",
    "\n",
    "    Parameters:\n",
    "    - vector: A list or array containing class labels.\n",
    "\n",
    "    Returns:\n",
    "    - entropy: The entropy value for the input vector.\n",
    "    \"\"\"\n",
    "    class_counts, num_classes = count_classes(vector)\n",
    "\n",
    "    # Calculate the probabilities of each class\n",
    "    class_probabilities = [count / len(vector) for count in class_counts.values()]\n",
    "\n",
    "    # Calculate entropy using the formula\n",
    "    entropy = -sum(p * math.log2(p) for p in class_probabilities)\n",
    "\n",
    "    return entropy"
   ]
  },
  {
   "cell_type": "markdown",
   "id": "24ebf760",
   "metadata": {},
   "source": [
    "Testez vos fonctions en utilisant un vecteur d'échantillon. _Assurez-vous que vos fonctions sont correctement implémentées et fournissent des résultats significatifs._\n",
    "\n",
    "---\n",
    "\n",
    "Test your functions using a sample vector. _Ensure that your functions are correctly implemented and provide meaningful results._"
   ]
  },
  {
   "cell_type": "code",
   "execution_count": 6,
   "id": "2bce5a84",
   "metadata": {},
   "outputs": [
    {
     "name": "stdout",
     "output_type": "stream",
     "text": [
      "Entropy of the Vector: 2.2312702546075758\n"
     ]
    }
   ],
   "source": [
    "entropy_value = calculate_entropy(test_vector)\n",
    "print(\"Entropy of the Vector:\", entropy_value)"
   ]
  },
  {
   "cell_type": "markdown",
   "id": "7734a803",
   "metadata": {},
   "source": [
    "**Exercice 3 :** Écrivez une fonction `calculate_entropy_for_features` qui permet d'itérer sur la fonction `calculate_entropy` pour calculer l'entropie de chaque _feature_ (c'est-à-dire, un vecteur) dans le dataframe original (c'est-à-dire, _df_).\n",
    "\n",
    "---\n",
    "\n",
    "**Exercise 3:** Write a function `calculate_entropy_for_features` that allows iterating through the `calculate_entropy` function to calculate the entropy of each _feature_ (i.e., a vector) in the original dataframe (i.e., _df_)."
   ]
  },
  {
   "cell_type": "code",
   "execution_count": 7,
   "id": "ea2d05d3",
   "metadata": {},
   "outputs": [],
   "source": [
    "def calculate_entropy_for_features(df):\n",
    "    \"\"\"\n",
    "    Calculate entropy for each feature (column) in the DataFrame.\n",
    "\n",
    "    Parameters:\n",
    "    - df: The DataFrame containing the dataset.\n",
    "\n",
    "    Returns:\n",
    "    - feature_entropies: A dictionary where keys are feature names, and values are their corresponding entropies.\n",
    "    \"\"\"\n",
    "    feature_entropies = {}\n",
    "\n",
    "    for column in df.columns[:-1]:  # Exclude the last column assuming it's the target variable\n",
    "        feature_vector = df[column]\n",
    "        entropy_value = calculate_entropy(feature_vector)\n",
    "        feature_entropies[column] = entropy_value\n",
    "\n",
    "    return feature_entropies"
   ]
  },
  {
   "cell_type": "markdown",
   "id": "e975998d",
   "metadata": {},
   "source": [
    "Testez vos fonctions en utilisant un vecteur d'échantillon. _Assurez-vous que vos fonctions sont correctement implémentées et fournissent des résultats significatifs._\n",
    "\n",
    "---\n",
    "\n",
    "Test your functions using a sample vector. _Ensure that your functions are correctly implemented and provide meaningful results._"
   ]
  },
  {
   "cell_type": "code",
   "execution_count": 8,
   "id": "d0db5cdc",
   "metadata": {},
   "outputs": [
    {
     "name": "stdout",
     "output_type": "stream",
     "text": [
      "Feature Entropies: {'Temperature': 1.5566567074628228, 'Humidity': 1.0, 'Outlook': 1.5774062828523454, 'Wind': 0.9852281360342516}\n"
     ]
    }
   ],
   "source": [
    "# Example usage:\n",
    "feature_entropies = calculate_entropy_for_features(df)\n",
    "print(\"Feature Entropies:\", feature_entropies)"
   ]
  },
  {
   "cell_type": "markdown",
   "id": "80947c63",
   "metadata": {},
   "source": [
    "**Exercice 4 :** Écrivez une fonction `find_max_entropy_feature` qui permet d'identifier l'attribut ayant l'entropie maximale et de le supprimer du dataframe initial (_df_) en utilisant la fonction précédemment écrite `calculate_entropy_for_features`. Cette fonction doit retourner trois arguments : le nom de l'attribut ayant l'entropie maximale, la valeur maximale de l'entropie en question, et finalement le nouveau dataframe ne contenant plus l'attribut en question.\n",
    "\n",
    "---\n",
    "\n",
    "**Exercise 4:** Write a function `find_max_entropy_feature` that allows identifying the attribute with the maximum entropy and removing that attribute from the initial dataframe (_df_) using the previously written function `calculate_entropy_for_features`. This function should return three arguments: the name of the attribute with maximum entropy, the maximum value of the entropy in question, and finally, the new dataframe without the mentioned attribute."
   ]
  },
  {
   "cell_type": "code",
   "execution_count": 9,
   "id": "72adb1e6",
   "metadata": {},
   "outputs": [],
   "source": [
    "def find_max_entropy_feature(df):\n",
    "    \"\"\"\n",
    "    Find the feature with the maximum entropy in the DataFrame and remove it.\n",
    "\n",
    "    Parameters:\n",
    "    - df: The DataFrame containing the dataset.\n",
    "\n",
    "    Returns:\n",
    "    - max_entropy_feature: The name of the feature with the maximum entropy.\n",
    "    - df_after_removal: The DataFrame after removing the column with the maximum entropy feature.\n",
    "    \"\"\"\n",
    "    max_entropy_feature = None\n",
    "    max_entropy_value = float('-inf')  # Initialize with negative infinity\n",
    "\n",
    "    for column in df.columns:\n",
    "        feature_vector = df[column]\n",
    "        entropy_value = calculate_entropy(feature_vector)\n",
    "\n",
    "        if entropy_value > max_entropy_value:\n",
    "            max_entropy_value = entropy_value\n",
    "            max_entropy_feature = column\n",
    "\n",
    "    # Remove the column with the maximum entropy feature\n",
    "    df_after_removal = df.drop(columns=[max_entropy_feature])\n",
    "\n",
    "    return max_entropy_feature, max_entropy_value, df_after_removal"
   ]
  },
  {
   "cell_type": "code",
   "execution_count": 10,
   "id": "6edf9c51",
   "metadata": {},
   "outputs": [
    {
     "name": "stdout",
     "output_type": "stream",
     "text": [
      "Max Entropy Feature: Outlook\n",
      "Max Entropy Feature: 1.5774062828523454\n",
      "DataFrame After Removal:\n",
      "    Temperature Humidity    Wind Play Tennis\n",
      "0          Hot     High    Weak          No\n",
      "1          Hot     High  Strong          No\n",
      "2          Hot     High    Weak         Yes\n",
      "3         Mild     High    Weak         Yes\n",
      "4         Cool   Normal    Weak         Yes\n",
      "5         Cool   Normal  Strong          No\n",
      "6         Cool   Normal  Strong         Yes\n",
      "7         Mild     High    Weak          No\n",
      "8         Cool   Normal    Weak         Yes\n",
      "9         Mild   Normal    Weak         Yes\n",
      "10        Mild   Normal  Strong         Yes\n",
      "11        Mild     High  Strong         Yes\n",
      "12         Hot   Normal    Weak         Yes\n",
      "13        Mild     High  Strong          No\n"
     ]
    }
   ],
   "source": [
    "# Example usage:\n",
    "max_entropy_feature, max_entropy_value, df_after_removal = find_max_entropy_feature(df)\n",
    "print(\"Max Entropy Feature:\", max_entropy_feature)\n",
    "print(\"Max Entropy Feature:\", max_entropy_value)\n",
    "print(\"DataFrame After Removal:\\n\", df_after_removal)"
   ]
  },
  {
   "cell_type": "markdown",
   "id": "379cb81d",
   "metadata": {},
   "source": [
    "**Exercice 5 :** Écrivez une fonction `build_decision_tree` qui effectue cette opération de manière récursive jusqu'au dernier attribut, qui sera ajouté sans nécessiter de calcul en appelant la fonction `find_max_entropy_feature`. La séquence des attributs constituera l'ordre de construction de votre arbre de décision dans le dataframe, allant de l'attribut le plus crucial (la racine) à celui moins significatif (les feuilles).\n",
    "\n",
    "---\n",
    "\n",
    "**Exercise 5:** Write a function `build_decision_tree` that performs this operation recursively until the last attribute, which will be added without requiring a calculation by calling the _find_max_entropy_feature_ function. The sequence of attributes will determine the construction order of your decision tree in the dataframe, ranging from the most crucial attribute (the root) to the less significant ones (the leaves)."
   ]
  },
  {
   "cell_type": "code",
   "execution_count": 11,
   "id": "ae01c235",
   "metadata": {},
   "outputs": [],
   "source": [
    "def build_decision_tree(df):\n",
    "    \"\"\"\n",
    "    Build a decision tree using a recursive approach until the last attribute.\n",
    "\n",
    "    Parameters:\n",
    "    - df: The DataFrame containing the dataset.\n",
    "\n",
    "    Returns:\n",
    "    - decision_tree_order: The order of attributes for constructing the decision tree.\n",
    "    \"\"\"\n",
    "    decision_tree_order = []\n",
    "\n",
    "    while df.shape[1] > 1:  # Continue until only one attribute (column) is left\n",
    "        max_entropy_feature, _, df = find_max_entropy_feature(df)\n",
    "        decision_tree_order.append(max_entropy_feature)\n",
    "\n",
    "    # Add the last remaining attribute without calculating its entropy\n",
    "    decision_tree_order.append(df.columns[0])\n",
    "\n",
    "    return decision_tree_order"
   ]
  },
  {
   "cell_type": "markdown",
   "id": "9af24790",
   "metadata": {},
   "source": [
    "Testez vos fonctions en utilisant un vecteur d'échantillon. _Assurez-vous que vos fonctions sont correctement implémentées et fournissent des résultats significatifs._\n",
    "\n",
    "---\n",
    "\n",
    "Test your functions using a sample vector. _Ensure that your functions are correctly implemented and provide meaningful results._"
   ]
  },
  {
   "cell_type": "code",
   "execution_count": 12,
   "id": "d9b93f5b",
   "metadata": {},
   "outputs": [
    {
     "name": "stdout",
     "output_type": "stream",
     "text": [
      "Decision Tree Order: ['Outlook', 'Temperature', 'Humidity', 'Wind', 'Play Tennis']\n"
     ]
    }
   ],
   "source": [
    "# Example usage:\n",
    "decision_tree_order = build_decision_tree(df)\n",
    "print(\"Decision Tree Order:\", decision_tree_order)"
   ]
  },
  {
   "cell_type": "code",
   "execution_count": null,
   "id": "0018d42a",
   "metadata": {},
   "outputs": [],
   "source": []
  }
 ],
 "metadata": {
  "kernelspec": {
   "display_name": "Python 3 (ipykernel)",
   "language": "python",
   "name": "python3"
  },
  "language_info": {
   "codemirror_mode": {
    "name": "ipython",
    "version": 3
   },
   "file_extension": ".py",
   "mimetype": "text/x-python",
   "name": "python",
   "nbconvert_exporter": "python",
   "pygments_lexer": "ipython3",
   "version": "3.9.13"
  }
 },
 "nbformat": 4,
 "nbformat_minor": 5
}
