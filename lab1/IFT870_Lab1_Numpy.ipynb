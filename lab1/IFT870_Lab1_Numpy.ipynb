{
 "cells": [
  {
   "cell_type": "markdown",
   "metadata": {
    "id": "pBzebW4qd7xZ"
   },
   "source": [
    "# Python Review / Révision de Python  \n"
   ]
  },
  {
   "cell_type": "markdown",
   "metadata": {
    "id": "d6pe0ySad7xa"
   },
   "source": [
    "Reviewing some basic concepts in Python\n",
    "\n",
    "* **`help` function**    \n",
    "    When needed, use `help` to get the information about a function and the parameters it takes (e.g. `help(range)`)\n",
    "    \n",
    "<hr />\n",
    "    \n",
    "Revoyons quelques concepts de lbase avec Python.\n",
    "\n",
    "* **fonction `help`**\n",
    "  \n",
    "  Au besoin, afin d'obtenir de l'information sur l'usage et les paramètres d'une fonction, utilisez help (ex: `help(range)`).\n"
   ]
  },
  {
   "cell_type": "markdown",
   "metadata": {
    "id": "wrLzbbdyd7xe"
   },
   "source": [
    "* **Data structure `list`**.\n",
    "\n",
    "A list is a sequence of items (numbers, or strings, etc.) For e.g., `a = [1, 2, 3, 4]`\n",
    "\n",
    "***Ex 1: Create a list with the numbers 0-9 (including 9) in increasing order using `range`. Then create one in decreasing order.***\n",
    "\n",
    "<hr />\n",
    "\n",
    "\n",
    "* **Structure de données `list`**.\n",
    "\n",
    "Une liste est une séquence d'items (des entiers, des chaînes de caractères, etc.). Par exemple, `a = [1, 2, 3, 4]`\n",
    "\n",
    "***Ex 1: Créez une liste en ordre croissant des nombres allant de 0 à 9 (incluant 9) en utilisant la fonction `range`. Créez une liste décroissante des mêmes nombres.***"
   ]
  },
  {
   "cell_type": "code",
   "execution_count": 5,
   "metadata": {
    "id": "UQcVIBKdd7xf"
   },
   "outputs": [
    {
     "name": "stdout",
     "output_type": "stream",
     "text": [
      "[0, 1, 2, 3, 4, 5, 6, 7, 8, 9]\n",
      "[9, 8, 7, 6, 5, 4, 3, 2, 1, 0]\n"
     ]
    }
   ],
   "source": [
    "# insert code here/ insérer votre code ici\n",
    "a = [i for i in range(10)]\n",
    "b = [i for i in range(10)]\n",
    "b = b[::-1]\n",
    "\n",
    "print(a)\n",
    "print(b)"
   ]
  },
  {
   "cell_type": "markdown",
   "metadata": {
    "id": "OMum2Y_Cd7xh"
   },
   "source": [
    "* **Slicing a list**\n",
    "\n",
    "You can \"choose\" some elements of a list using square brackets with the index of the elements you want For example, `l[0]` returns the 1st element of the list `l`; `l[:4]` returns the first 4 elements.\n",
    "\n",
    "In general, \"slicing\" is done using `l[a:b:c]`, where `a` is the first element index you want to slice, `b` is the last index, `c` is the spacing between indices you slice.\n",
    "\n",
    "***Ex 2: Create a list of the numbers 0-9. Slice it to return only even numbers.***  \n",
    "***Ex 3: Create a list of the numbers 0-9. Slice it to return only odd numbers.***\n",
    "\n",
    "<hr />\n",
    "\n",
    "* **Découper une liste**.\n",
    "\n",
    "Il est possible de sélectionner des éléments d'une liste en utilisant l'index de ces éléments. Par exemple, `l[0]` retourne le premier élément de la liste `l` et `l[:4]` retourne les 4 premiers éléments.\n",
    "\n",
    "De manière générale, le <em>découpage</em> est utilisé comme suit `l[a:b:c]` où `a` représente l'index du premier élément à découper, `b` est l'index du dernier élément et `c` est le saut avec lequel ceux-ci sont découpés. \n",
    "\n",
    "***Ex 2: Créez une liste de nombres allant de 0 à 9. Découper cette liste pour y inclure seulement les nombres pairs.***  \n",
    "***Ex 3: Créez une liste de nombres allant de 0 à 9. Découper cette liste pour y inclure seulement les nombres impairs.***"
   ]
  },
  {
   "cell_type": "code",
   "execution_count": 6,
   "metadata": {
    "id": "7wjhc0dwd7xi"
   },
   "outputs": [
    {
     "name": "stdout",
     "output_type": "stream",
     "text": [
      "[0, 2, 4, 6, 8]\n",
      "[1, 3, 5, 7, 9]\n"
     ]
    }
   ],
   "source": [
    "aa = [i for i in range(10)]\n",
    "a = aa[::2]\n",
    "b = aa[1::2]\n",
    "print(a)\n",
    "print(b)\n",
    "    \n"
   ]
  },
  {
   "cell_type": "markdown",
   "metadata": {
    "id": "AU_9QEmad7xl"
   },
   "source": [
    "* **`for` loop**\n",
    "\n",
    "A `for` loop is a \"loop\" that runs until some condition is exhausted. For example, if `a` is a list of numbers,\n",
    "```\n",
    "for i in range(len(a)):\n",
    "    print(a[i])\n",
    "```\n",
    "prints each element in a.\n",
    "\n",
    "Note that the 1st line defines the loop condition, and every **indented** line after that defines what to do **for** each run of the loop (in this case, to print an element of `a`).\n",
    "\n",
    "***Ex 4: Create a list of numbers 0-9. Find its sum using a `for` loop, and print it.***\n",
    "\n",
    "\n",
    "<hr />\n",
    "\n",
    "\n",
    "* **Boucle `for`**\n",
    "\n",
    "Une boucle `for` est une <em>boucle</em> qui exécute jusqu'à ce qu'une condition soit remplie. Par exemple, si `a` est une liste de nombres:\n",
    "```\n",
    "for i in range(len(a)):\n",
    "    print(a[i])\n",
    "```\n",
    "\n",
    "imprime chaque élément de `a`.\n",
    "\n",
    "Notez que la première ligne définit la condition à remplir et chaque ligne ensuite contenant une indentation définit ce qu'il faut exécuter à chaque pas de la boucle (ici, il s'agit d'imprimer un élément de `a)`.\n",
    "\n",
    "\n",
    "***Ex 4: Créez une liste de nombres allant de 0 à 9. Trouvez la somme de ces éléments en utilisant une boucle `for` et ensuite imprimez la.***"
   ]
  },
  {
   "cell_type": "code",
   "execution_count": 9,
   "metadata": {
    "id": "DWT_fu0Ld7xl"
   },
   "outputs": [
    {
     "name": "stdout",
     "output_type": "stream",
     "text": [
      "45\n"
     ]
    }
   ],
   "source": [
    "# insert code here/ insérer votre code ici\n",
    "\n",
    "sum = 0\n",
    "for i in range(len(aa)):\n",
    "    sum += aa[i]\n",
    "print(sum)"
   ]
  },
  {
   "cell_type": "markdown",
   "metadata": {
    "id": "XC-0IrLYd7xo"
   },
   "source": [
    "* **List of lists**\n",
    "\n",
    "A 2-dimensional matrix can be represented by a list of lists. For example,\n",
    "`m = [[1, 2], [3, 4], [5, 6], [7, 8]]` represents a 4x2 matrix.\n",
    "\n",
    "Each element of `m` can be accessed using square brackets. For example, `m[2]` returns the 3rd row of `m`; `m[2][0]` returns the 1st element in the 3rd row.\n",
    "\n",
    "***Ex 5: Create the above m. Calculate the sum of all its elements using a/multiple `for` loops.***\n",
    "\n",
    "\n",
    "<hr />\n",
    "\n",
    "\n",
    "* **Une liste de listes**\n",
    "\n",
    "Une matrice à 2 dimensions peut être représentée par une liste de listes. Par exemple, `m = [[1, 2], [3, 4], [5, 6], [7, 8]]` représente une matrice de dimension 4x2.\n",
    "\n",
    "Pour chaque élément de `m`; `m[2][0]` retourne le premier élément de la troisième ligne.\n",
    "\n",
    "***Ex 5: Créez ladite liste `m`. Calculez la somme de tous ses éléments en utilisant des boucles `for` imbriquées.***"
   ]
  },
  {
   "cell_type": "code",
   "execution_count": 13,
   "metadata": {
    "id": "k9d_k-ESd7xo"
   },
   "outputs": [
    {
     "name": "stdout",
     "output_type": "stream",
     "text": [
      "36\n"
     ]
    }
   ],
   "source": [
    "# insert code here/ insérer votre code ici\n",
    "import numpy as np\n",
    "m = [[1,2],[3,4],[5,6],[7,8]]\n",
    "shape= np.shape(m)\n",
    "n,p = shape[0], shape[1]\n",
    "sum = 0\n",
    "for i in range(n):\n",
    "    for j in range(p):\n",
    "        sum+= m[i][j]\n",
    "print(sum)"
   ]
  },
  {
   "cell_type": "markdown",
   "metadata": {
    "id": "6Jr5lYLOd7xr"
   },
   "source": [
    "* **Defining functions with `def`**.      \n",
    "    this is how you define a function to add one to a number\n",
    "\n",
    "        def plus_one(s):\n",
    "            return s + 1\n",
    "\n",
    "    note the indentation! whitespace matters in Python!\n",
    "    \n",
    "<hr />\n",
    "    \n",
    "* **Définir des fonctions avec `def`**.      \n",
    "    Voici comment on pourrait définir une fonction \"plus_un\":\n",
    "\n",
    "        def plus_un(s):\n",
    "            return s + 1\n",
    "\n",
    "    Notez l'importance de l'indentation!"
   ]
  },
  {
   "cell_type": "markdown",
   "metadata": {
    "id": "PBXNsDYqd7xr"
   },
   "source": [
    "# Numpy\n",
    "\n",
    "*Note*: if you're familiar with MATLAB, [this page](https://numpy.org/doc/stable/user/numpy-for-matlab-users.html) will allow you to see the corresponding numpy terms to functions you already know.\n",
    "\n",
    "*Note:* Si vous êtes familier avec MATLAB, cette [page web](https://numpy.org/doc/stable/user/numpy-for-matlab-users.html) vous permettra de consulter les principales correspondances matlab/numpy en terme de syntaxe.\n"
   ]
  },
  {
   "cell_type": "markdown",
   "metadata": {
    "id": "gagUo7Crd7xs"
   },
   "source": [
    "## Basics / Bases\n",
    "\n",
    "Numpy is a package in Python. It needs to be imported.\n",
    "\n",
    "Numpy est une librairie Python. Il faut ainsi l'importer."
   ]
  },
  {
   "cell_type": "code",
   "execution_count": null,
   "metadata": {
    "id": "ULy4S1qad7xt"
   },
   "outputs": [],
   "source": [
    "import numpy as np"
   ]
  },
  {
   "cell_type": "markdown",
   "metadata": {
    "id": "yrHGwdhXd7xw"
   },
   "source": [
    "All documentation for every function in numpy can be found in its [docs](https://docs.scipy.org/doc/numpy/reference/). It is a good practice to keep referring to the docs to understand any function you use, and its proper syntax.\n",
    "\n",
    "***Ex 6: using `np.arange`, create an array of the numbers 0-9***\n",
    "\n",
    "<hr />\n",
    "\n",
    "Toute la documentation pour chacune des fonctions numpy se retrouve ici [docs](https://docs.scipy.org/doc/numpy/reference/). Une bonne habitude est de se réferer à la documentation afin de bien comprendre une fonction utilisée et sa syntaxe.\n",
    "\n",
    "***Ex 6: utilisez `np.arange` afin de créer un tableau des nombres 0 à 9***"
   ]
  },
  {
   "cell_type": "code",
   "execution_count": 16,
   "metadata": {
    "id": "dKPkCdy9d7xw"
   },
   "outputs": [
    {
     "name": "stdout",
     "output_type": "stream",
     "text": [
      "[[0 1 2]\n",
      " [3 4 5]\n",
      " [6 7 8]]\n"
     ]
    }
   ],
   "source": [
    "# insert code here/ insérer votre code ici\n",
    "tab = np.arange(9)\n",
    "tab = np.reshape(tab,(3,3))\n",
    "print(tab)"
   ]
  },
  {
   "cell_type": "markdown",
   "metadata": {
    "id": "HQUVAHyBd7x0"
   },
   "source": [
    "\n",
    "***Ex 7: print the `type` of the array***\n",
    "\n",
    "***Ex 8: print the `type` of the first element in the array***\n",
    "\n",
    "***Ex 9: print the `shape` of the array***\n",
    "\n",
    "<hr />\n",
    "\n",
    "***Ex 7: imprimez le `type` de votre tableau***\n",
    "\n",
    "***Ex 8: imprimez le `type` du premier élément de votre tableau***\n",
    "\n",
    "***Ex 9: imprimez la dimension (`shape`) du tableau***\n",
    "\n"
   ]
  },
  {
   "cell_type": "code",
   "execution_count": 20,
   "metadata": {
    "id": "Hk_O-034d7x0"
   },
   "outputs": [
    {
     "name": "stdout",
     "output_type": "stream",
     "text": [
      "<class 'numpy.ndarray'>\n",
      "<class 'numpy.int32'>\n",
      "(3, 3)\n"
     ]
    }
   ],
   "source": [
    "# insert code herep/ insérer votre code ici\n",
    "\n",
    "Q7 = type(tab)\n",
    "Q8 = type(tab[0][0])\n",
    "Q9 = np.shape(tab)\n",
    "\n",
    "print(Q7)\n",
    "print(Q8)\n",
    "print(Q9)"
   ]
  },
  {
   "cell_type": "markdown",
   "metadata": {
    "id": "HUxOpxcCd7x4"
   },
   "source": [
    "We see that the array is of the type `numpy.ndarray`: \"Numpy n-dimensional array\", while each element in it is an integer.\n",
    "\n",
    "***Ex 10: Print the numbers at the 3rd to the 6th index in the array using slicing `[:]`***\n",
    "\n",
    "<hr />\n",
    "\n",
    "On remarque que le tableau est de type `numpy.ndarray`: \"Numpy n-dimensional array\" et que chaque élément est un entier.\n",
    "\n",
    "***Ex 10: Accédez aux éléments 3 à 6 à l'aide de l'opérateur «`[:]`».***"
   ]
  },
  {
   "cell_type": "code",
   "execution_count": 27,
   "metadata": {
    "id": "758_y9fMd7x5"
   },
   "outputs": [
    {
     "name": "stdout",
     "output_type": "stream",
     "text": [
      "[2 3 4]\n"
     ]
    }
   ],
   "source": [
    "# insert code here/ insérer votre code ici\n",
    "\n",
    "tab3to6 = np.squeeze(np.reshape(tab, (1,-1)))[2:5]\n",
    "print(tab3to6)"
   ]
  },
  {
   "cell_type": "markdown",
   "metadata": {
    "id": "JL0sZGCMd7x8"
   },
   "source": [
    "***Ex 11: Create a list of the numbers 0-9, convert it into a numpy array using `np.array`***\n",
    "\n",
    "<hr />\n",
    "\n",
    "***Ex 11: Créez une liste des nombres 0 à 9 et convertissez la en tableau en utilisant `np.array`***"
   ]
  },
  {
   "cell_type": "code",
   "execution_count": 29,
   "metadata": {
    "id": "p7m_nkMKd7x8"
   },
   "outputs": [
    {
     "name": "stdout",
     "output_type": "stream",
     "text": [
      "[0 1 2 3 4 5 6 7 8 9]\n"
     ]
    }
   ],
   "source": [
    "# insert code here/ insérer votre code ici\n",
    "list = [i for i in range(10)]\n",
    "arr = np.array(list)\n",
    "print(arr)"
   ]
  },
  {
   "cell_type": "markdown",
   "metadata": {
    "id": "fdJS_Mp4d7x_"
   },
   "source": [
    "***Ex 12: Create a list of lists of size 4x2 (like the one we did earlier). Convert it into a numpy array, check its shape.***\n",
    "\n",
    "<hr />\n",
    "\n",
    "***Ex 12: Créez une liste de listes de dimension 4x2 (comme celle que nous avons définie précédemment). Convertissez la en tableau et vérifiez sa dimension.***"
   ]
  },
  {
   "cell_type": "code",
   "execution_count": 31,
   "metadata": {
    "id": "5grfYu2_d7yA"
   },
   "outputs": [
    {
     "name": "stdout",
     "output_type": "stream",
     "text": [
      "(4, 2)\n"
     ]
    }
   ],
   "source": [
    "# insert code here/ insérer votre\n",
    "\n",
    "alist = [[1,2],[3,4],[5,6],[7,8]]\n",
    "alist = np.array(alist)\n",
    "shape = np.shape(alist)\n",
    "print(shape)"
   ]
  },
  {
   "cell_type": "markdown",
   "metadata": {
    "id": "JRzu3DrUd7yC"
   },
   "source": [
    "***Ex 13: Find the sum of all the elements in this numpy array using `np.sum`. Then, find the sum along the 1st axis.*** Think about what shape the sum must be, and then verify.\n",
    "\n",
    "<hr />\n",
    "\n",
    "***Ex 13: Trouvez la somme de tous les éléments du tableau en utilisant `np.sum`. Ensuite, trouvez la somme selon la première dimension*** Pensez à la dimension que cette somme devrait avoir et vérifiez la.\n"
   ]
  },
  {
   "cell_type": "code",
   "execution_count": 33,
   "metadata": {
    "id": "sSjxqdlKd7yD"
   },
   "outputs": [
    {
     "name": "stdout",
     "output_type": "stream",
     "text": [
      "36\n"
     ]
    }
   ],
   "source": [
    "# insert code here/ insérer votre codse ii\n",
    "\n",
    "rowsum= [np.sum(rows) for rows in alist]\n",
    "sum = np.sum(rowsum)\n",
    "print(sum)\n"
   ]
  },
  {
   "cell_type": "markdown",
   "metadata": {
    "id": "tQP17PGhd7yF"
   },
   "source": [
    "## Statistics/ Statistiques"
   ]
  },
  {
   "cell_type": "markdown",
   "metadata": {
    "id": "EiFcgNPld7yG"
   },
   "source": [
    "Now we're going to generate data points and verify statistics\n",
    "\n",
    "***Ex 14: Create a 2D array `o` of shape (100, 2) filled with the number 1 using `np.ones`***\n",
    "\n",
    "<hr />\n",
    "\n",
    "Nous allons maintenant générer des points et vérifiez certaines de leurs statistiques.\n",
    "\n",
    "***Ex 14: Créez un tableau 2D `o` de dimension (100, 2) composé uniquement de 1 en utilisant `np.ones`***"
   ]
  },
  {
   "cell_type": "code",
   "execution_count": 40,
   "metadata": {
    "id": "VhJqR2zpd7yG"
   },
   "outputs": [
    {
     "name": "stdout",
     "output_type": "stream",
     "text": [
      "[[1. 1.]\n",
      " [1. 1.]\n",
      " [1. 1.]\n",
      " [1. 1.]\n",
      " [1. 1.]\n",
      " [1. 1.]\n",
      " [1. 1.]\n",
      " [1. 1.]\n",
      " [1. 1.]\n",
      " [1. 1.]\n",
      " [1. 1.]\n",
      " [1. 1.]\n",
      " [1. 1.]\n",
      " [1. 1.]\n",
      " [1. 1.]\n",
      " [1. 1.]\n",
      " [1. 1.]\n",
      " [1. 1.]\n",
      " [1. 1.]\n",
      " [1. 1.]\n",
      " [1. 1.]\n",
      " [1. 1.]\n",
      " [1. 1.]\n",
      " [1. 1.]\n",
      " [1. 1.]\n",
      " [1. 1.]\n",
      " [1. 1.]\n",
      " [1. 1.]\n",
      " [1. 1.]\n",
      " [1. 1.]\n",
      " [1. 1.]\n",
      " [1. 1.]\n",
      " [1. 1.]\n",
      " [1. 1.]\n",
      " [1. 1.]\n",
      " [1. 1.]\n",
      " [1. 1.]\n",
      " [1. 1.]\n",
      " [1. 1.]\n",
      " [1. 1.]\n",
      " [1. 1.]\n",
      " [1. 1.]\n",
      " [1. 1.]\n",
      " [1. 1.]\n",
      " [1. 1.]\n",
      " [1. 1.]\n",
      " [1. 1.]\n",
      " [1. 1.]\n",
      " [1. 1.]\n",
      " [1. 1.]\n",
      " [1. 1.]\n",
      " [1. 1.]\n",
      " [1. 1.]\n",
      " [1. 1.]\n",
      " [1. 1.]\n",
      " [1. 1.]\n",
      " [1. 1.]\n",
      " [1. 1.]\n",
      " [1. 1.]\n",
      " [1. 1.]\n",
      " [1. 1.]\n",
      " [1. 1.]\n",
      " [1. 1.]\n",
      " [1. 1.]\n",
      " [1. 1.]\n",
      " [1. 1.]\n",
      " [1. 1.]\n",
      " [1. 1.]\n",
      " [1. 1.]\n",
      " [1. 1.]\n",
      " [1. 1.]\n",
      " [1. 1.]\n",
      " [1. 1.]\n",
      " [1. 1.]\n",
      " [1. 1.]\n",
      " [1. 1.]\n",
      " [1. 1.]\n",
      " [1. 1.]\n",
      " [1. 1.]\n",
      " [1. 1.]\n",
      " [1. 1.]\n",
      " [1. 1.]\n",
      " [1. 1.]\n",
      " [1. 1.]\n",
      " [1. 1.]\n",
      " [1. 1.]\n",
      " [1. 1.]\n",
      " [1. 1.]\n",
      " [1. 1.]\n",
      " [1. 1.]\n",
      " [1. 1.]\n",
      " [1. 1.]\n",
      " [1. 1.]\n",
      " [1. 1.]\n",
      " [1. 1.]\n",
      " [1. 1.]\n",
      " [1. 1.]\n",
      " [1. 1.]\n",
      " [1. 1.]\n",
      " [1. 1.]]\n"
     ]
    }
   ],
   "source": [
    "# insert code here/ insérer votre code ici\n",
    "o = np.ones((100,2))\n",
    "print(o)"
   ]
  },
  {
   "cell_type": "markdown",
   "metadata": {
    "id": "zf6-sAS-d7yI"
   },
   "source": [
    "***Ex 15: Create a 2D array `n` of shape (100, 2) filled with samples from a normal distribution with mean 2.5 and standard deviation 1.2 using `np.random.normal`.***\n",
    "\n",
    "<hr />\n",
    "\n",
    "***Ex 15: Créez une tableau 2D `n` de dimension (100,2) composés de points provenant d'une distribution de loi normale avec une moyenne de 2.5 et un écart-type de 1.2. Utilisez la fonction `np.random.normal`.***"
   ]
  },
  {
   "cell_type": "code",
   "execution_count": 41,
   "metadata": {
    "id": "zhzt-schd7yJ"
   },
   "outputs": [
    {
     "name": "stdout",
     "output_type": "stream",
     "text": [
      "[[ 1.28970082  1.30132576]\n",
      " [ 1.43442996  1.86045165]\n",
      " [ 2.01589749  0.89681427]\n",
      " [ 1.69406783  1.69481473]\n",
      " [ 2.61856707  1.64962375]\n",
      " [ 3.52914466  3.03111328]\n",
      " [ 2.26442416  0.9776102 ]\n",
      " [ 0.02064347  0.77866268]\n",
      " [ 2.28212349  0.95681005]\n",
      " [ 3.72424912  1.00581822]\n",
      " [ 3.04723578  1.35409944]\n",
      " [ 2.05472034  1.85012559]\n",
      " [ 1.33422729  2.41247167]\n",
      " [ 2.23089095  0.1092302 ]\n",
      " [ 0.57262099  3.27743112]\n",
      " [ 3.52822017  1.45133502]\n",
      " [ 3.68978888  1.13738748]\n",
      " [ 4.25422001  1.09412173]\n",
      " [ 0.98905949  2.54617788]\n",
      " [ 3.42035494  2.33461758]\n",
      " [ 1.64158972  0.60459137]\n",
      " [ 2.87691088  0.85986117]\n",
      " [ 1.24921424  1.69524348]\n",
      " [ 4.71096223  1.41373511]\n",
      " [ 1.94976243  0.99698015]\n",
      " [ 1.86210731 -0.15678021]\n",
      " [ 2.44097244  2.07786668]\n",
      " [ 3.05673774  2.46567984]\n",
      " [ 2.20529663  1.11059964]\n",
      " [ 2.16024735  0.59496591]\n",
      " [ 2.50910863  2.33621876]\n",
      " [ 3.02239532  0.66237931]\n",
      " [ 3.53249014  1.39304042]\n",
      " [ 3.72786864  3.95924378]\n",
      " [ 2.75962816  0.8591275 ]\n",
      " [ 3.06950667  2.83688112]\n",
      " [ 0.01712355  0.16466102]\n",
      " [ 3.52676225 -0.46040213]\n",
      " [ 3.31070419  0.60657591]\n",
      " [ 2.642904    0.04032512]\n",
      " [ 2.97356479  2.81873626]\n",
      " [ 2.18954916  1.79285035]\n",
      " [ 3.09351485  0.58903523]\n",
      " [ 0.96587857  1.00318079]\n",
      " [ 1.03496049  0.82800453]\n",
      " [ 4.09430351 -1.7036283 ]\n",
      " [ 1.0314781  -0.10468836]\n",
      " [ 2.1016432   1.00629784]\n",
      " [ 1.53668519  1.10269742]\n",
      " [ 3.8585123   0.3639696 ]\n",
      " [ 2.76167683  2.08559907]\n",
      " [ 4.12785302  0.72331144]\n",
      " [ 3.67249689  1.12923514]\n",
      " [ 3.16360978  0.13597278]\n",
      " [ 1.25892212  2.5123142 ]\n",
      " [ 1.59376022  1.59315765]\n",
      " [ 4.42403657  1.71250168]\n",
      " [ 2.96480219  1.95639339]\n",
      " [ 1.06579532  2.4219978 ]\n",
      " [ 1.6689087   2.6852837 ]\n",
      " [ 2.32270894  1.2971235 ]\n",
      " [ 2.24040489  1.56338774]\n",
      " [ 1.4024455   2.42761528]\n",
      " [ 2.02985961  1.96474412]\n",
      " [ 2.19109583  0.36216987]\n",
      " [ 4.13206464  0.09627379]\n",
      " [ 2.40521927  1.94060305]\n",
      " [ 2.5608538   3.60533477]\n",
      " [ 3.51334045  0.07222144]\n",
      " [ 1.91309937 -0.06190309]\n",
      " [ 1.96904329  1.3666426 ]\n",
      " [ 2.94514805  2.70071142]\n",
      " [ 2.06343958  2.38012541]\n",
      " [ 3.37394957  1.16331924]\n",
      " [ 3.21130857  2.83447723]\n",
      " [ 2.17716155  1.33323028]\n",
      " [ 1.69353843  1.87584749]\n",
      " [ 2.22120328 -1.12040734]\n",
      " [ 2.98234511  2.3140872 ]\n",
      " [ 2.66541047  2.85753148]\n",
      " [ 2.96196221  1.55886176]\n",
      " [ 0.06234963  0.05517977]\n",
      " [ 4.63093391 -0.03175834]\n",
      " [ 4.14914533  1.43137016]\n",
      " [ 2.02514811 -0.24219068]\n",
      " [ 4.4882675   1.03756683]\n",
      " [ 2.38098036  3.34264878]\n",
      " [ 4.65398541  0.73453662]\n",
      " [ 2.45529791  0.32162055]\n",
      " [ 3.21050416  1.49983068]\n",
      " [ 2.0388681   2.36160719]\n",
      " [ 2.5150227   1.9321977 ]\n",
      " [ 0.76068659  0.21413595]\n",
      " [ 2.19795064 -0.61253121]\n",
      " [ 3.2829061   0.86584409]\n",
      " [ 1.36090779  0.80560789]\n",
      " [ 3.95736933 -1.32408171]\n",
      " [ 4.7047886   2.86612153]\n",
      " [ 2.79046544  0.05484937]\n",
      " [ 3.2526285   1.66428927]]\n"
     ]
    }
   ],
   "source": [
    "# insert code here/ insérer votre code ici\n",
    "\n",
    "n = np.random.normal((2.5,1.2), size=(100,2))\n",
    "print(n)"
   ]
  },
  {
   "cell_type": "markdown",
   "metadata": {
    "id": "BsSKRq6-d7yN"
   },
   "source": [
    "***Ex 16: Using slicing, assign the first column of `o` as values from the 2nd column of `n`***\n",
    "\n",
    "<hr />\n",
    "\n",
    "***Ex 16: En utilisant le découpage, remplacez les valeurs de la première colonne de `o` avec les valeurs de la deuxième colonne de `n`.***\n"
   ]
  },
  {
   "cell_type": "code",
   "execution_count": 42,
   "metadata": {
    "id": "qzi_72lzd7yO"
   },
   "outputs": [],
   "source": [
    "# insert code here/ insérer votre code ici\n",
    "o[:,0] = n[:,1]\n"
   ]
  },
  {
   "cell_type": "markdown",
   "metadata": {
    "id": "rAAsSJOVd7yT"
   },
   "source": [
    "***Ex 17: Calculate the mean and std of ech column of `o` using `np.mean` and `np.std`.*** Verify that they are (almost) correct.\n",
    "\n",
    "<hr />\n",
    "\n",
    "***Ex 17: Calculez la moyenne et l'écart-type de chaque colonne de `o` en utilisant `np.mean` et `np.std`.*** Vérifiez si ces valeurs sont approximativement exactes."
   ]
  },
  {
   "cell_type": "code",
   "execution_count": 45,
   "metadata": {
    "id": "Hq1br9Xxd7yU"
   },
   "outputs": [
    {
     "name": "stdout",
     "output_type": "stream",
     "text": [
      "1.2994190016854619\n",
      "0.0\n",
      "1.0\n",
      "0.0\n"
     ]
    }
   ],
   "source": [
    "# insert code here/ insérer votre code ici\n",
    "\n",
    "mean_o0, std_dev_o0 = np.mean(o[:,0]), np.std(o[:,1])\n",
    "mean_o1, std_dev_o1 = np.mean(o[:,1]), np.std(o[:,1])\n",
    "print(mean_o0)\n",
    "print(std_dev_o0)\n",
    "print(mean_o1)\n",
    "print(std_dev_o1)\n"
   ]
  },
  {
   "cell_type": "markdown",
   "metadata": {
    "id": "4b2EKXDQd7yX"
   },
   "source": [
    "# Fun with the IRIS dataset / Exploration du jeu de données IRIS"
   ]
  },
  {
   "cell_type": "markdown",
   "metadata": {
    "id": "RqlUIqsRd7yY"
   },
   "source": [
    "We're now going to work with some real data! We'll use the [IRIS](http://en.wikipedia.org/wiki/Iris_flower_data_set) dataset which you can download [here](https://github.com/TahiriNadia/IFT870/blob/main/iris.txt).\n",
    "<hr />\n",
    "\n",
    "Nous allons maintenant travailler avec de vraies données! Nous allons utiliser le jeu de données [IRIS](http://en.wikipedia.org/wiki/Iris_flower_data_set) dont vous pouvez télécharger [ici](https://github.com/TahiriNadia/IFT870/blob/main/iris.txt)."
   ]
  },
  {
   "cell_type": "code",
   "execution_count": 46,
   "metadata": {
    "id": "YqUG1_abd7yY"
   },
   "outputs": [],
   "source": [
    "import sys\n",
    "IN_COLAB = 'google.colab' in sys.modules\n",
    "if IN_COLAB:\n",
    "  iris = np.loadtxt('https://github.com/TahiriNadia/IFT870/blob/main/iris.txt')\n",
    "else:\n",
    "  iris = np.loadtxt('iris.txt')"
   ]
  },
  {
   "cell_type": "markdown",
   "metadata": {
    "id": "4gVBDeOrd7yb"
   },
   "source": [
    "The IRIS dataset consists of 150 data points. Each data point is a description of a flower using 4 features - petal length, petal width, sepal length, sepal width. The dataset also contains the species of the flower. Thus, the samples form the 1st axis of this np array, and (the features + the species) form the 2nd axis of the array.\n",
    "\n",
    "Let's play around with the *array* of iris data\n",
    "\n",
    "* print the shape of the array\n",
    "* print all the elements of the array\n",
    "\n",
    "\n",
    "<hr />\n",
    "\n",
    "Le dataset IRIS consiste en 150 points de données. Chaque exemple (point) représente une description d'une fleur à l'aide de 4 variables, soient la longueur des pétales, la largeur des pétales, la longueur des sépales et la largeur des sépales. Ce jeu de données contient également l'espèce de la fleur. La première dimension représente ainsi les différents exemples et la deuxième dimension représente les variables et l'espèce de ces exemples.\n",
    "\n",
    "\n",
    "Explorons le tableau de donnees\n",
    "\n",
    "* imprimez la dimension du tableau\n",
    "* imprimez les éléments du tableau"
   ]
  },
  {
   "cell_type": "code",
   "execution_count": 47,
   "metadata": {
    "id": "0wBwLYUJd7yf"
   },
   "outputs": [
    {
     "name": "stdout",
     "output_type": "stream",
     "text": [
      "(150, 5)\n",
      "[[5.1 3.5 1.4 0.2 1. ]\n",
      " [4.9 3.  1.4 0.2 1. ]\n",
      " [4.7 3.2 1.3 0.2 1. ]\n",
      " [4.6 3.1 1.5 0.2 1. ]\n",
      " [5.  3.6 1.4 0.2 1. ]\n",
      " [5.4 3.9 1.7 0.4 1. ]\n",
      " [4.6 3.4 1.4 0.3 1. ]\n",
      " [5.  3.4 1.5 0.2 1. ]\n",
      " [4.4 2.9 1.4 0.2 1. ]\n",
      " [4.9 3.1 1.5 0.1 1. ]\n",
      " [5.4 3.7 1.5 0.2 1. ]\n",
      " [4.8 3.4 1.6 0.2 1. ]\n",
      " [4.8 3.  1.4 0.1 1. ]\n",
      " [4.3 3.  1.1 0.1 1. ]\n",
      " [5.8 4.  1.2 0.2 1. ]\n",
      " [5.7 4.4 1.5 0.4 1. ]\n",
      " [5.4 3.9 1.3 0.4 1. ]\n",
      " [5.1 3.5 1.4 0.3 1. ]\n",
      " [5.7 3.8 1.7 0.3 1. ]\n",
      " [5.1 3.8 1.5 0.3 1. ]\n",
      " [5.4 3.4 1.7 0.2 1. ]\n",
      " [5.1 3.7 1.5 0.4 1. ]\n",
      " [4.6 3.6 1.  0.2 1. ]\n",
      " [5.1 3.3 1.7 0.5 1. ]\n",
      " [4.8 3.4 1.9 0.2 1. ]\n",
      " [5.  3.  1.6 0.2 1. ]\n",
      " [5.  3.4 1.6 0.4 1. ]\n",
      " [5.2 3.5 1.5 0.2 1. ]\n",
      " [5.2 3.4 1.4 0.2 1. ]\n",
      " [4.7 3.2 1.6 0.2 1. ]\n",
      " [4.8 3.1 1.6 0.2 1. ]\n",
      " [5.4 3.4 1.5 0.4 1. ]\n",
      " [5.2 4.1 1.5 0.1 1. ]\n",
      " [5.5 4.2 1.4 0.2 1. ]\n",
      " [4.9 3.1 1.5 0.2 1. ]\n",
      " [5.  3.2 1.2 0.2 1. ]\n",
      " [5.5 3.5 1.3 0.2 1. ]\n",
      " [4.9 3.6 1.4 0.1 1. ]\n",
      " [4.4 3.  1.3 0.2 1. ]\n",
      " [5.1 3.4 1.5 0.2 1. ]\n",
      " [5.  3.5 1.3 0.3 1. ]\n",
      " [4.5 2.3 1.3 0.3 1. ]\n",
      " [4.4 3.2 1.3 0.2 1. ]\n",
      " [5.  3.5 1.6 0.6 1. ]\n",
      " [5.1 3.8 1.9 0.4 1. ]\n",
      " [4.8 3.  1.4 0.3 1. ]\n",
      " [5.1 3.8 1.6 0.2 1. ]\n",
      " [4.6 3.2 1.4 0.2 1. ]\n",
      " [5.3 3.7 1.5 0.2 1. ]\n",
      " [5.  3.3 1.4 0.2 1. ]\n",
      " [7.  3.2 4.7 1.4 2. ]\n",
      " [6.4 3.2 4.5 1.5 2. ]\n",
      " [6.9 3.1 4.9 1.5 2. ]\n",
      " [5.5 2.3 4.  1.3 2. ]\n",
      " [6.5 2.8 4.6 1.5 2. ]\n",
      " [5.7 2.8 4.5 1.3 2. ]\n",
      " [6.3 3.3 4.7 1.6 2. ]\n",
      " [4.9 2.4 3.3 1.  2. ]\n",
      " [6.6 2.9 4.6 1.3 2. ]\n",
      " [5.2 2.7 3.9 1.4 2. ]\n",
      " [5.  2.  3.5 1.  2. ]\n",
      " [5.9 3.  4.2 1.5 2. ]\n",
      " [6.  2.2 4.  1.  2. ]\n",
      " [6.1 2.9 4.7 1.4 2. ]\n",
      " [5.6 2.9 3.6 1.3 2. ]\n",
      " [6.7 3.1 4.4 1.4 2. ]\n",
      " [5.6 3.  4.5 1.5 2. ]\n",
      " [5.8 2.7 4.1 1.  2. ]\n",
      " [6.2 2.2 4.5 1.5 2. ]\n",
      " [5.6 2.5 3.9 1.1 2. ]\n",
      " [5.9 3.2 4.8 1.8 2. ]\n",
      " [6.1 2.8 4.  1.3 2. ]\n",
      " [6.3 2.5 4.9 1.5 2. ]\n",
      " [6.1 2.8 4.7 1.2 2. ]\n",
      " [6.4 2.9 4.3 1.3 2. ]\n",
      " [6.6 3.  4.4 1.4 2. ]\n",
      " [6.8 2.8 4.8 1.4 2. ]\n",
      " [6.7 3.  5.  1.7 2. ]\n",
      " [6.  2.9 4.5 1.5 2. ]\n",
      " [5.7 2.6 3.5 1.  2. ]\n",
      " [5.5 2.4 3.8 1.1 2. ]\n",
      " [5.5 2.4 3.7 1.  2. ]\n",
      " [5.8 2.7 3.9 1.2 2. ]\n",
      " [6.  2.7 5.1 1.6 2. ]\n",
      " [5.4 3.  4.5 1.5 2. ]\n",
      " [6.  3.4 4.5 1.6 2. ]\n",
      " [6.7 3.1 4.7 1.5 2. ]\n",
      " [6.3 2.3 4.4 1.3 2. ]\n",
      " [5.6 3.  4.1 1.3 2. ]\n",
      " [5.5 2.5 4.  1.3 2. ]\n",
      " [5.5 2.6 4.4 1.2 2. ]\n",
      " [6.1 3.  4.6 1.4 2. ]\n",
      " [5.8 2.6 4.  1.2 2. ]\n",
      " [5.  2.3 3.3 1.  2. ]\n",
      " [5.6 2.7 4.2 1.3 2. ]\n",
      " [5.7 3.  4.2 1.2 2. ]\n",
      " [5.7 2.9 4.2 1.3 2. ]\n",
      " [6.2 2.9 4.3 1.3 2. ]\n",
      " [5.1 2.5 3.  1.1 2. ]\n",
      " [5.7 2.8 4.1 1.3 2. ]\n",
      " [6.3 3.3 6.  2.5 3. ]\n",
      " [5.8 2.7 5.1 1.9 3. ]\n",
      " [7.1 3.  5.9 2.1 3. ]\n",
      " [6.3 2.9 5.6 1.8 3. ]\n",
      " [6.5 3.  5.8 2.2 3. ]\n",
      " [7.6 3.  6.6 2.1 3. ]\n",
      " [4.9 2.5 4.5 1.7 3. ]\n",
      " [7.3 2.9 6.3 1.8 3. ]\n",
      " [6.7 2.5 5.8 1.8 3. ]\n",
      " [7.2 3.6 6.1 2.5 3. ]\n",
      " [6.5 3.2 5.1 2.  3. ]\n",
      " [6.4 2.7 5.3 1.9 3. ]\n",
      " [6.8 3.  5.5 2.1 3. ]\n",
      " [5.7 2.5 5.  2.  3. ]\n",
      " [5.8 2.8 5.1 2.4 3. ]\n",
      " [6.4 3.2 5.3 2.3 3. ]\n",
      " [6.5 3.  5.5 1.8 3. ]\n",
      " [7.7 3.8 6.7 2.2 3. ]\n",
      " [7.7 2.6 6.9 2.3 3. ]\n",
      " [6.  2.2 5.  1.5 3. ]\n",
      " [6.9 3.2 5.7 2.3 3. ]\n",
      " [5.6 2.8 4.9 2.  3. ]\n",
      " [7.7 2.8 6.7 2.  3. ]\n",
      " [6.3 2.7 4.9 1.8 3. ]\n",
      " [6.7 3.3 5.7 2.1 3. ]\n",
      " [7.2 3.2 6.  1.8 3. ]\n",
      " [6.2 2.8 4.8 1.8 3. ]\n",
      " [6.1 3.  4.9 1.8 3. ]\n",
      " [6.4 2.8 5.6 2.1 3. ]\n",
      " [7.2 3.  5.8 1.6 3. ]\n",
      " [7.4 2.8 6.1 1.9 3. ]\n",
      " [7.9 3.8 6.4 2.  3. ]\n",
      " [6.4 2.8 5.6 2.2 3. ]\n",
      " [6.3 2.8 5.1 1.5 3. ]\n",
      " [6.1 2.6 5.6 1.4 3. ]\n",
      " [7.7 3.  6.1 2.3 3. ]\n",
      " [6.3 3.4 5.6 2.4 3. ]\n",
      " [6.4 3.1 5.5 1.8 3. ]\n",
      " [6.  3.  4.8 1.8 3. ]\n",
      " [6.9 3.1 5.4 2.1 3. ]\n",
      " [6.7 3.1 5.6 2.4 3. ]\n",
      " [6.9 3.1 5.1 2.3 3. ]\n",
      " [5.8 2.7 5.1 1.9 3. ]\n",
      " [6.8 3.2 5.9 2.3 3. ]\n",
      " [6.7 3.3 5.7 2.5 3. ]\n",
      " [6.7 3.  5.2 2.3 3. ]\n",
      " [6.3 2.5 5.  1.9 3. ]\n",
      " [6.5 3.  5.2 2.  3. ]\n",
      " [6.2 3.4 5.4 2.3 3. ]\n",
      " [5.9 3.  5.1 1.8 3. ]]\n"
     ]
    }
   ],
   "source": [
    "print(iris.shape)\n",
    "print(iris)"
   ]
  },
  {
   "cell_type": "markdown",
   "metadata": {
    "id": "RFK7lp0hd7yj"
   },
   "source": [
    "Accessing an element in a `np.array` is similar but not the same as a python `list`\n",
    "\n",
    "***Ex 18: Get the first element (i.e. index 0,0) of `iris` using `[][]`.***\n",
    "\n",
    "***Ex 19: Get the first element of the `np.array` using just `[,]` syntax.***\n",
    "\n",
    "<hr />\n",
    "\n",
    "\n",
    "Acccéder un élément d'un tableau est similaire, mais pas tout à fait pareil à une liste python\n",
    "\n",
    "***Ex 18: Obtenez le premier élément (i.e. index 0,0) du dataset iris en utilisant `[][]`.***\n",
    "\n",
    "***Ex 19: Obtenez le premier élément du tableau en utilisant la syntaxe `[,]`.*** \n"
   ]
  },
  {
   "cell_type": "code",
   "execution_count": 52,
   "metadata": {
    "id": "SrBHuX3Fd7yk"
   },
   "outputs": [
    {
     "name": "stdout",
     "output_type": "stream",
     "text": [
      "5.1\n",
      "[5.1 3.5 1.4 0.2 1. ]\n"
     ]
    }
   ],
   "source": [
    "# insert code here/ insérer votre code ici\n",
    "first_elem = iris[0][0]\n",
    "first_row = iris[0,:]\n",
    "\n",
    "print(first_elem)\n",
    "print(first_row)"
   ]
  },
  {
   "cell_type": "markdown",
   "metadata": {
    "id": "geCvChmid7ym"
   },
   "source": [
    "The advantage of `numpy` slicing is that you can access multiple dimensions (`axis`) at the same time\n",
    "\n",
    "***Ex 20: Slice the 4 features of the first 10 samples of the IRIS dataset.***\n",
    "\n",
    "<hr />\n",
    "\n",
    "L'avantage du découpage `numpy` est qu'il est possible d'accéder plusieurs dimensions (`axis`) simultanément\n",
    "\n",
    "\n",
    "***Ex 20: Découpez les 4 variables des 10 premiers exemples du dataset IRIS.***"
   ]
  },
  {
   "cell_type": "code",
   "execution_count": 53,
   "metadata": {
    "id": "oQfLbgkKd7yn"
   },
   "outputs": [],
   "source": [
    "# insert code here/ insérer votre code ici\n",
    "\n",
    "var1 = iris[:9,0]\n",
    "var2 = iris[:9,1]\n",
    "var3 = iris[:9,2]\n",
    "var4 = iris[:9,3]"
   ]
  },
  {
   "cell_type": "markdown",
   "metadata": {
    "id": "Rx_6baFGd7yp"
   },
   "source": [
    "***Ex 21: Using negative index, print the last column of `iris`.***\n",
    "\n",
    "<hr />\n",
    "\n",
    "***Ex 21: Utilisez une indexation négative afin d'imprimer la dernière colonne de `iris`.***"
   ]
  },
  {
   "cell_type": "code",
   "execution_count": 54,
   "metadata": {
    "id": "EKZyUId2d7yq"
   },
   "outputs": [],
   "source": [
    "# insert code here/ insérer votre code ici\n",
    "\n",
    "var5 = iris[:9, -1]\n"
   ]
  },
  {
   "cell_type": "markdown",
   "metadata": {
    "id": "T7l1nHkKd7ys"
   },
   "source": [
    "## Some useful `numpy` functions / Quelques fonctions `numpy` utiles"
   ]
  },
  {
   "cell_type": "markdown",
   "metadata": {
    "id": "CmqLujc1d7yt"
   },
   "source": [
    "**min**, **max** : minimum and maximum elements of an array (can also be done across an `axis`)\n",
    "\n",
    "<hr />\n",
    "\n",
    "**min**, **max** : éléments minimum and maximum d'un tableau (peut également se faire selon une dimension `axis`)\n",
    "\n",
    "<br/>"
   ]
  },
  {
   "cell_type": "markdown",
   "metadata": {
    "id": "pxR_hte9d7yt"
   },
   "source": [
    "**argmax**, **argmin** : the indices of the minimum and maximum elements of an array (can also be done across an `axis`)\n",
    "\n",
    "<hr />\n",
    "\n",
    "**argmax**, **argmin** : les indices des minimums ou maximums d'un tableau (peut également se faire selon une dimension `axis`)\n",
    "\n",
    "<br/>"
   ]
  },
  {
   "cell_type": "markdown",
   "metadata": {
    "id": "Xsge0wtBd7yu"
   },
   "source": [
    "**abs** : absolute value\n",
    "\n",
    "<hr />\n",
    "\n",
    "**abs** : valeur absolue\n",
    "\n",
    "<br/>"
   ]
  },
  {
   "cell_type": "markdown",
   "metadata": {
    "id": "DZtlnPg7d7yv"
   },
   "source": [
    "<b>pow or **</b> : exponentiation\n",
    "\n",
    "<hr />\n",
    "\n",
    "<b>pow or **</b> : exponentiation\n",
    "\n",
    "<br/>"
   ]
  },
  {
   "cell_type": "markdown",
   "metadata": {
    "id": "-uyTz0WXd7yw"
   },
   "source": [
    "**np.random.shuffle** : randomly shuffle the elements in the array\n",
    "\n",
    "<hr />\n",
    "\n",
    "**np.random.shuffle** : mélanger de manière aléatoire les éléments d'un tableau\n",
    "\n",
    "<br/>"
   ]
  },
  {
   "cell_type": "markdown",
   "metadata": {
    "id": "P_F9u80yd7yx"
   },
   "source": [
    "`numpy` has many more useful mathematical functions such as:\n",
    "\n",
    "`numpy` possède plusieurs autres fonction mathématiques utiles telles que:\n",
    "\n",
    "* numpy.mean\n",
    "* numpy.std\n",
    "* numpy.cov\n",
    "* numpy.dot\n",
    "* numpy.invert\n",
    "* numpy.unique\n",
    "* numpy.vsplit\n",
    "* numpy.vstack\n",
    "* numpy.hsplit\n",
    "* numpy.hstack\n",
    "\n",
    "You can find all of them on the [documentation](http://docs.scipy.org/doc/numpy/reference/index.html)\n",
    "\n",
    "***Ex Play: Play around with these!***\n",
    "\n",
    "Elle se retrouvent toutes dans la [documentation](http://docs.scipy.org/doc/numpy/reference/index.html)\n",
    "\n",
    "***Ex Play: Explorez avec ces fonctions!***"
   ]
  },
  {
   "cell_type": "markdown",
   "metadata": {
    "id": "Ko3-dKFTd7yy"
   },
   "source": [
    "# Plotting the flowers with Matplotlib"
   ]
  },
  {
   "cell_type": "markdown",
   "metadata": {
    "id": "k6IcIjWOd7yy"
   },
   "source": [
    "`matplotlib` is a great library for creating charts and graphs. Here are some practical function to visualize a dataset like `iris`.\n",
    "\n",
    "<hr />\n",
    "\n",
    "`matplotlib` est une excellente librairie pour créer des diagrammes et des graphiques. Voici quelques fonctions pratiques qui vous aidrons à visualiser le dataset `iris`. "
   ]
  },
  {
   "cell_type": "code",
   "execution_count": 55,
   "metadata": {
    "id": "uc6cmC5dd7yz"
   },
   "outputs": [],
   "source": [
    "import matplotlib.pyplot as plt"
   ]
  },
  {
   "cell_type": "markdown",
   "metadata": {
    "id": "x2_2Dmnid7y1"
   },
   "source": [
    "***Ex 22: Plot the histogram of the 2nd feature of every sample in the IRIS dataset using `plt.hist`. Make sure to include both x and y labels and a title.***\n",
    "\n",
    "<hr />\n",
    "\n",
    "***Ex 22: Tracez l'histogramme de la deuxième variable de chaque exemple du dataset IRIS en utilisant `plt.hist`. Assurez-vous d'inclure un titre ainsi que les étiquettes d'axes.***"
   ]
  },
  {
   "cell_type": "code",
   "execution_count": 56,
   "metadata": {
    "id": "E9pF17cmd7y1"
   },
   "outputs": [
    {
     "data": {
      "text/plain": [
       "(array([1., 1., 1., 1., 0., 2., 1., 1., 0., 1.]),\n",
       " array([2.9, 3. , 3.1, 3.2, 3.3, 3.4, 3.5, 3.6, 3.7, 3.8, 3.9]),\n",
       " <BarContainer object of 10 artists>)"
      ]
     },
     "execution_count": 56,
     "metadata": {},
     "output_type": "execute_result"
    },
    {
     "data": {
      "image/png": "[encoded data removed]",
      "text/plain": [
       "<Figure size 640x480 with 1 Axes>"
      ]
     },
     "metadata": {},
     "output_type": "display_data"
    }
   ],
   "source": [
    "# insert code here/ insérer votre code ici\n",
    "\n",
    "plt.hist(var2)"
   ]
  },
  {
   "cell_type": "markdown",
   "metadata": {
    "id": "CHOULcvwd7y3"
   },
   "source": [
    "***Ex 23: Plot a scatterplot, with the 3rd feature as the x-axis and the 4th feature as the y-axis using `plt.scatter`. Make sure to include both x and y labels and a title.***\n",
    "\n",
    "<hr />\n",
    "\n",
    "***Ex 23: Tracez un nuage de points avec la troisième variable sur l'axe des x et la quatrième variable sur l'axe des y en utilisant `plt.scatter`. Assurez-vous d'inclure un titre ainsi que les étiquettes d'axes.***\n"
   ]
  },
  {
   "cell_type": "code",
   "execution_count": 61,
   "metadata": {
    "id": "2Zkgyn7Qd7y3"
   },
   "outputs": [
    {
     "data": {
      "text/plain": [
       "<matplotlib.collections.PathCollection at 0x1f7e5f64490>"
      ]
     },
     "execution_count": 61,
     "metadata": {},
     "output_type": "execute_result"
    },
    {
     "data": {
      "image/png": "[encoded data removed]",
      "text/plain": [
       "<Figure size 640x480 with 1 Axes>"
      ]
     },
     "metadata": {},
     "output_type": "display_data"
    }
   ],
   "source": [
    "# insert code here/ insérer votre code ici\n",
    "plt.scatter(var3,var4)\n"
   ]
  },
  {
   "cell_type": "markdown",
   "metadata": {
    "id": "LPIGBm4Rd7y6"
   },
   "source": [
    "***Ex 24: Plot the same scatter plot as above, but this time - color the points according to their corresponding \"species\". Make sure to include both x and y labels and a title.***\n",
    "\n",
    "<hr/>\n",
    "\n",
    "***Ex 24: Tracez le même nuage de points mais, colorez les points correspondant aux différentes espèces. Assurez-vous d'inclure un titre ainsi que les étiquettes d'axes.***"
   ]
  },
  {
   "cell_type": "code",
   "execution_count": null,
   "metadata": {
    "id": "nevoZ8dMd7y6"
   },
   "outputs": [],
   "source": [
    "# insert code here/ insérer votre code ici\n"
   ]
  },
  {
   "cell_type": "markdown",
   "metadata": {
    "id": "EvhvaB3yd7y8"
   },
   "source": [
    "***Ex 25: Plot an errorbar around the average of each of the 4 features across the data samples, using `plt.errorbar`***\n",
    "\n",
    "<hr/>\n",
    "\n",
    "***Ex 25: Tracer une barre d'erreur autour des moyennes de chacune des 4 variables en utilisant `plt.errorbar`.***"
   ]
  },
  {
   "cell_type": "code",
   "execution_count": null,
   "metadata": {
    "id": "Z3Or_pGWd7y9"
   },
   "outputs": [],
   "source": [
    "# insert code here/ insérer votre code ici\n"
   ]
  },
  {
   "cell_type": "markdown",
   "metadata": {
    "id": "MuShtqPYd7y_"
   },
   "source": [
    "***Ex 26: Create a sine wave. Create some gaussian noise. Plot the sine wave, and the sine wave with the noise added to it.***\n",
    "\n",
    "Try to create this image:\n",
    "\n",
    "<hr/>\n",
    "\n",
    "***Ex 26: Créez une courbe  sinusoïdale. Ajoutez-y maintenant du bruit gaussien. Tracez la courbe sinusoïdale sans et avec le bruit ajouté.***\n",
    "\n",
    "Essayez de recréer cette image:\n",
    "\n",
    "![reproduce](https://drive.google.com/uc?id=1p_eBFrYEZ9u_Vu2BFisfaQLLoSZbZqjS)"
   ]
  },
  {
   "cell_type": "code",
   "execution_count": null,
   "metadata": {
    "id": "GzIl4Xsxd7zA"
   },
   "outputs": [],
   "source": [
    "# insert code here/ insérer votre code ici\n"
   ]
  },
  {
   "cell_type": "markdown",
   "metadata": {
    "id": "nas2MKpCd7zC"
   },
   "source": [
    "### This is just the beginning!\n",
    "\n",
    "You now have some of the basics down but you'll need more practise. Explore new functions and let's go through more tutorials!\n",
    "\n",
    "---\n",
    "\n",
    "### Ce n'est que le début!\n",
    "\n",
    "Vous possédez désormais certaines bases, mais il vous faut plus de pratique. Explorez de nouvelles fonctions et faisons plus de tutoriels!\n"
   ]
  }
 ],
 "metadata": {
  "colab": {
   "collapsed_sections": [
    "T7l1nHkKd7ys"
   ],
   "name": "IFT6390_Lab1_Numpy.ipynb",
   "provenance": []
  },
  "kernelspec": {
   "display_name": "Python 3",
   "language": "python",
   "name": "python3"
  },
  "language_info": {
   "codemirror_mode": {
    "name": "ipython",
    "version": 3
   },
   "file_extension": ".py",
   "mimetype": "text/x-python",
   "name": "python",
   "nbconvert_exporter": "python",
   "pygments_lexer": "ipython3",
   "version": "3.11.3"
  }
 },
 "nbformat": 4,
 "nbformat_minor": 1
}
